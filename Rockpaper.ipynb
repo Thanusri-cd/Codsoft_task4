{
  "nbformat": 4,
  "nbformat_minor": 0,
  "metadata": {
    "colab": {
      "provenance": [],
      "authorship_tag": "ABX9TyPHHdz9asCp2hXldBOZ8HQa",
      "include_colab_link": true
    },
    "kernelspec": {
      "name": "python3",
      "display_name": "Python 3"
    },
    "language_info": {
      "name": "python"
    }
  },
  "cells": [
    {
      "cell_type": "markdown",
      "metadata": {
        "id": "view-in-github",
        "colab_type": "text"
      },
      "source": [
        "<a href=\"https://colab.research.google.com/github/Thanusri-cd/Codsoft_task4/blob/main/Rockpaper.ipynb\" target=\"_parent\"><img src=\"https://colab.research.google.com/assets/colab-badge.svg\" alt=\"Open In Colab\"/></a>"
      ]
    },
    {
      "cell_type": "code",
      "execution_count": 1,
      "metadata": {
        "colab": {
          "base_uri": "https://localhost:8080/"
        },
        "id": "7MxvjkLytxmA",
        "outputId": "d7bee6dd-2f3c-45f8-e90b-cadc555b8705"
      },
      "outputs": [
        {
          "output_type": "stream",
          "name": "stdout",
          "text": [
            "Enter your choice (0 = Rock, 1 = Paper, 2 = Scissors): 1\n",
            "\n",
            "You chose: Paper\n",
            "Computer chose: Rock\n",
            "You won!\n"
          ]
        }
      ],
      "source": [
        "import random\n",
        "\n",
        "choices = [\"Rock\", \"Paper\", \"Scissors\"]\n",
        "\n",
        "def get_result(user, comp):\n",
        "    if user == comp:\n",
        "        return \"It's a draw!\"\n",
        "    elif (user == 0 and comp == 2) or (user == 1 and comp == 0) or (user == 2 and comp == 1):\n",
        "        return \"You won!\"\n",
        "    else:\n",
        "        return \"Computer won!\"\n",
        "\n",
        "try:\n",
        "    user_choice = int(input(\"Enter your choice (0 = Rock, 1 = Paper, 2 = Scissors): \"))\n",
        "    if user_choice < 0 or user_choice > 2:\n",
        "        print(\"Invalid option. Please choose 0, 1, or 2.\")\n",
        "    else:\n",
        "        computer_choice = random.randint(0, 2)\n",
        "        print(f\"\\nYou chose: {choices[user_choice]}\")\n",
        "        print(f\"Computer chose: {choices[computer_choice]}\")\n",
        "        print(get_result(user_choice, computer_choice))\n",
        "except ValueError:\n",
        "    print(\"Invalid input. Please enter a number (0, 1, or 2).\")\n"
      ]
    }
  ]
}